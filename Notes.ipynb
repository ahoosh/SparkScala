{
 "cells": [
  {
   "cell_type": "code",
   "execution_count": null,
   "metadata": {
    "collapsed": true
   },
   "outputs": [],
   "source": []
  },
  {
   "cell_type": "markdown",
   "metadata": {},
   "source": [
    "Spark is built around RDDs (Resilient Distributed Dataset)\n",
    "\n",
    "Spark components:\n",
    "\n",
    "- Spark Streaming\n",
    "\n",
    "- Spark SQL\n",
    "\n",
    "- MLLib\n",
    "\n",
    "- GraphX\n",
    "\n",
    "Once you have an RDD, you can transform them:\n",
    "\n",
    "- Map\n",
    "\n",
    "- Flatmap\n",
    "\n",
    "- Filter\n",
    "\n",
    "- Distinct\n",
    "\n",
    "- Sample\n",
    "\n",
    "- Union, intersection, Subtraction, Cartesian\n",
    "\n",
    "Or you can do actions to them:\n",
    "\n",
    "- Collect\n",
    "\n",
    "- Count\n",
    "\n",
    "- countByValue\n",
    "\n",
    "- Take\n",
    "\n",
    "- Top\n",
    "\n",
    "- Reduce\n",
    "\n",
    "- and more ..."
   ]
  },
  {
   "cell_type": "code",
   "execution_count": null,
   "metadata": {
    "collapsed": true
   },
   "outputs": [],
   "source": []
  }
 ],
 "metadata": {
  "anaconda-cloud": {},
  "kernelspec": {
   "display_name": "Python [conda root]",
   "language": "python",
   "name": "conda-root-py"
  },
  "language_info": {
   "codemirror_mode": {
    "name": "ipython",
    "version": 3
   },
   "file_extension": ".py",
   "mimetype": "text/x-python",
   "name": "python",
   "nbconvert_exporter": "python",
   "pygments_lexer": "ipython3",
   "version": "3.5.2"
  }
 },
 "nbformat": 4,
 "nbformat_minor": 2
}
